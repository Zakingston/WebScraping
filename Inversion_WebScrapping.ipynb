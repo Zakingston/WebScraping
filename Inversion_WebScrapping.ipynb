{
 "cells": [
  {
   "cell_type": "code",
   "execution_count": 60,
   "id": "5836a44a",
   "metadata": {},
   "outputs": [
    {
     "name": "stdout",
     "output_type": "stream",
     "text": [
      "Inversión total 2024: 21.037000000000003\n"
     ]
    }
   ],
   "source": [
    "# Importar las librerías\n",
    "import urllib.request\n",
    "from bs4 import BeautifulSoup\n",
    "# Vamos a sacar la inversión total para el año 2024\n",
    "# Crear las listas que vamos a necesitar\n",
    "url_1 = \"https://www.morningstar.es/es/funds/snapshot/snapshot.aspx?id=F0GBR04AS2\"\n",
    "url_2 = \"https://www.morningstar.es/es/funds/snapshot/snapshot.aspx?id=F00000OYMY\"\n",
    "url_3 = \"https://www.morningstar.es/es/funds/snapshot/snapshot.aspx?id=F00000OYMI\"\n",
    "urls = [url_1, url_2, url_3]\n",
    "htmls = []\n",
    "soups = []\n",
    "tags = []\n",
    "fondos = []\n",
    "participaciones_1 = 22.45\n",
    "participaciones_2 = 8.34\n",
    "participaciones_3 = 13.22\n",
    "participaciones = [participaciones_1, participaciones_2, participaciones_3]\n",
    "\n",
    "# Crear bucle para añadir a la lista html los códigos html's\n",
    "for html in urls:\n",
    "    htmls.append(urllib.request.urlopen(html))\n",
    "\n",
    "# Este bucle for pasará la función BeautifulSoup por todos los enlaces    \n",
    "for soup in htmls:\n",
    "    soups.append(BeautifulSoup(soup))\n",
    "\n",
    "# Sacar las etiquetas para todos los enlaces \n",
    "for tag in soups:\n",
    "    tags.append(tag.find_all(\"td\", class_ = \"col7 value number\"))\n",
    "\n",
    "# Vamos a sacar los fondos para cada etiqueta\n",
    "for inv in tags:\n",
    "    fondos.append(float(inv[0].text.replace(',', '.')))\n",
    "                \n",
    "# Convertir los fondos a números decimales\n",
    "fondos_decimal = [float(fondo) for fondo in fondos]\n",
    "\n",
    "# Calcular la inversión total multiplicando cada fondo por cada participación y sumando todo\n",
    "inversion = sum(participacion * fondo for participacion, fondo in zip(participaciones, fondos_decimal))\n",
    "\n",
    "# Imprimir el resultado\n",
    "print(\"Inversión total 2024:\", inversion)"
   ]
  }
 ],
 "metadata": {
  "kernelspec": {
   "display_name": "Python 3 (ipykernel)",
   "language": "python",
   "name": "python3"
  },
  "language_info": {
   "codemirror_mode": {
    "name": "ipython",
    "version": 3
   },
   "file_extension": ".py",
   "mimetype": "text/x-python",
   "name": "python",
   "nbconvert_exporter": "python",
   "pygments_lexer": "ipython3",
   "version": "3.9.13"
  }
 },
 "nbformat": 4,
 "nbformat_minor": 5
}
